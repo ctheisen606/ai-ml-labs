{
 "cells": [
  {
   "cell_type": "markdown",
   "id": "3a182e0e",
   "metadata": {},
   "source": [
    "# 🧠 NumPy Basics Lab\n",
    "\n",
    "**Author**: Christian Theisen  \n",
    "**Date**: June 2025  \n",
    "**Description**: This notebook contains foundational practice with NumPy, including array creation, operations, reshaping, and broadcasting. Part of my AI/ML learning repo."
   ]
  },
  {
   "cell_type": "code",
   "execution_count": null,
   "id": "e20ea6d1",
   "metadata": {},
   "outputs": [],
   "source": [
    "import numpy as np"
   ]
  },
  {
   "cell_type": "markdown",
   "id": "d3d4a91f",
   "metadata": {},
   "source": [
    "## 🧪 Section 1: Array Creation\n",
    "Creating 1D and 2D arrays using `np.array()` to understand basic array structures."
   ]
  },
  {
   "cell_type": "code",
   "execution_count": 3,
   "id": "f59dd068",
   "metadata": {},
   "outputs": [
    {
     "name": "stdout",
     "output_type": "stream",
     "text": [
      "Array Creation\n",
      "1D Array: [1 2 3]\n",
      "2D Array:\n",
      " [[1 2]\n",
      " [3 4]]\n"
     ]
    }
   ],
   "source": [
    "print(\"Array Creation\")\n",
    "a = np.array([1, 2, 3])\n",
    "print(\"1D Array:\", a)\n",
    "\n",
    "b = np.array([[1, 2], [3, 4]])\n",
    "print(\"2D Array:\\n\", b)"
   ]
  },
  {
   "cell_type": "markdown",
   "id": "a8c0b6a2",
   "metadata": {},
   "source": [
    "## 🧪 Section 2: Array Properties\n",
    "Exploring array attributes like shape, size, and data type."
   ]
  },
  {
   "cell_type": "code",
   "execution_count": 4,
   "id": "967bf879",
   "metadata": {},
   "outputs": [
    {
     "name": "stdout",
     "output_type": "stream",
     "text": [
      "\n",
      "Array Properties\n",
      "Shape: (2, 2)\n",
      "Size: 4\n",
      "Data Type: int64\n"
     ]
    }
   ],
   "source": [
    "print(\"\\nArray Properties\")\n",
    "print(\"Shape:\", b.shape)\n",
    "print(\"Size:\", b.size)\n",
    "print(\"Data Type:\", b.dtype)"
   ]
  },
  {
   "cell_type": "markdown",
   "id": "6961d80a",
   "metadata": {},
   "source": [
    "## 🧪 Section 3: Indexing and Slicing\n",
    "Accessing specific elements and rows using indexing and slicing techniques."
   ]
  },
  {
   "cell_type": "code",
   "execution_count": 5,
   "id": "e6cb97ac",
   "metadata": {},
   "outputs": [
    {
     "name": "stdout",
     "output_type": "stream",
     "text": [
      "\n",
      "Indexing and Slicing\n",
      "First element of a: 1\n",
      "Second row of b: [3 4]\n",
      "Element at row 1 col 0: 3\n"
     ]
    }
   ],
   "source": [
    "print(\"\\nIndexing and Slicing\")\n",
    "print(\"First element of a:\", a[0])\n",
    "print(\"Second row of b:\", b[1])\n",
    "print(\"Element at row 1 col 0:\", b[1, 0])"
   ]
  },
  {
   "cell_type": "markdown",
   "id": "ff4b2e15",
   "metadata": {},
   "source": [
    "## 🧪 Section 4: Vectorized Operations\n",
    "Using NumPy to perform fast element-wise operations without loops."
   ]
  },
  {
   "cell_type": "code",
   "execution_count": 6,
   "id": "e2655810",
   "metadata": {},
   "outputs": [
    {
     "name": "stdout",
     "output_type": "stream",
     "text": [
      "\n",
      "Vectorized Operations\n",
      "x + y: [5 7 9]\n",
      "x * y: [ 4 10 18]\n",
      "x squared: [1 4 9]\n"
     ]
    }
   ],
   "source": [
    "print(\"\\nVectorized Operations\")\n",
    "x = np.array([1, 2, 3])\n",
    "y = np.array([4, 5, 6])\n",
    "print(\"x + y:\", x + y)\n",
    "print(\"x * y:\", x * y)\n",
    "print(\"x squared:\", x ** 2)"
   ]
  },
  {
   "cell_type": "markdown",
   "id": "87781996",
   "metadata": {},
   "source": [
    "## 🧪 Section 5: Broadcasting\n",
    "Demonstrating how NumPy handles operations between arrays of different shapes."
   ]
  },
  {
   "cell_type": "code",
   "execution_count": 7,
   "id": "24f02e06",
   "metadata": {},
   "outputs": [
    {
     "name": "stdout",
     "output_type": "stream",
     "text": [
      "\n",
      "Broadcasting\n",
      "m + n:\n",
      " [[11 21 31]\n",
      " [12 22 32]\n",
      " [13 23 33]]\n"
     ]
    }
   ],
   "source": [
    "print(\"\\nBroadcasting\")\n",
    "m = np.array([[1], [2], [3]])\n",
    "n = np.array([10, 20, 30])\n",
    "print(\"m + n:\\n\", m + n)"
   ]
  },
  {
   "cell_type": "markdown",
   "id": "e9c4fa48",
   "metadata": {},
   "source": [
    "## 🧪 Section 6: Reshaping and Stacking\n",
    "Changing array shapes and combining arrays vertically using `reshape()` and `vstack()`."
   ]
  },
  {
   "cell_type": "code",
   "execution_count": 8,
   "id": "687ff522",
   "metadata": {},
   "outputs": [
    {
     "name": "stdout",
     "output_type": "stream",
     "text": [
      "\n",
      "Reshaping and Stacking\n",
      "Original: [0 1 2 3 4 5]\n",
      "Reshaped to 2x3:\n",
      " [[0 1 2]\n",
      " [3 4 5]]\n",
      "Stacked vertically:\n",
      " [[0 1 2]\n",
      " [3 4 5]\n",
      " [7 8 9]]\n"
     ]
    }
   ],
   "source": [
    "print(\"\\nReshaping and Stacking\")\n",
    "c = np.arange(6)\n",
    "print(\"Original:\", c)\n",
    "\n",
    "reshaped = c.reshape((2, 3))\n",
    "print(\"Reshaped to 2x3:\\n\", reshaped)\n",
    "\n",
    "d = np.array([[7, 8, 9]])\n",
    "stacked = np.vstack([reshaped, d])\n",
    "print(\"Stacked vertically:\\n\", stacked)"
   ]
  },
  {
   "cell_type": "markdown",
   "id": "8632729d",
   "metadata": {},
   "source": [
    "## 💡 Practice Exercise 1: Create Full Array\n",
    "Create a 2D array of shape (3, 4) filled with the value 7 using `np.full()`."
   ]
  },
  {
   "cell_type": "code",
   "execution_count": 9,
   "id": "fec3805e",
   "metadata": {},
   "outputs": [
    {
     "name": "stdout",
     "output_type": "stream",
     "text": [
      "[[7 7 7 7]\n",
      " [7 7 7 7]\n",
      " [7 7 7 7]]\n"
     ]
    }
   ],
   "source": [
    "a = np.full((3,4),7)\n",
    "print(a)"
   ]
  },
  {
   "cell_type": "markdown",
   "id": "025b62ab",
   "metadata": {},
   "source": [
    "## 💡 Practice Exercise 2: Create Ranged Array\n",
    "Use `np.arange()` to create a 1D array from 10 to 50 (inclusive) stepping by 5."
   ]
  },
  {
   "cell_type": "code",
   "execution_count": 10,
   "id": "9e1ba2da",
   "metadata": {},
   "outputs": [
    {
     "name": "stdout",
     "output_type": "stream",
     "text": [
      "[10 15 20 25 30 35 40 45 50]\n"
     ]
    }
   ],
   "source": [
    "b = np.arange(10,51,5)\n",
    "print(b)"
   ]
  },
  {
   "cell_type": "markdown",
   "id": "ddba98cf",
   "metadata": {},
   "source": [
    "## 💡 Practice Exercise 3: Reshape an Array\n",
    "Generate a 1D array of 1–12, reshape it to (3, 4), and multiply all values by 10."
   ]
  },
  {
   "cell_type": "code",
   "execution_count": 11,
   "id": "9c50825f",
   "metadata": {},
   "outputs": [
    {
     "name": "stdout",
     "output_type": "stream",
     "text": [
      "Original:\n",
      " [[ 1  2  3  4]\n",
      " [ 5  6  7  8]\n",
      " [ 9 10 11 12]]\n",
      "Multiplied:\n",
      " [[ 10  20  30  40]\n",
      " [ 50  60  70  80]\n",
      " [ 90 100 110 120]]\n"
     ]
    }
   ],
   "source": [
    "c = np.arange(1,13).reshape(3,4)\n",
    "print(\"Original:\\n\",c)\n",
    "\n",
    "# Multiply all values by 10\n",
    "print(\"Multiplied:\\n\", c*10)"
   ]
  },
  {
   "cell_type": "markdown",
   "id": "bed3667b",
   "metadata": {},
   "source": [
    "## 💡 Practice Exercise 4: Generate Random Numbers\n",
    "Generate 1,000 values from a standard normal distribution and calculate statistics."
   ]
  },
  {
   "cell_type": "code",
   "execution_count": 12,
   "id": "b3a38285",
   "metadata": {},
   "outputs": [
    {
     "name": "stdout",
     "output_type": "stream",
     "text": [
      "Mean: -0.035808235232163886\n",
      "Std Dev: -0.035808235232163886\n",
      "Min: -3.042690413229263 Max: 3.4295703931741235\n"
     ]
    }
   ],
   "source": [
    "r = np.random.normal(0, 1, 1000)\n",
    "\n",
    "# Get mean, std, min, max\n",
    "print(\"Mean:\", np.mean(r))\n",
    "print(\"Std Dev:\", np.mean(r))\n",
    "print(\"Min:\", np.min(r), \"Max:\", np.max(r))"
   ]
  }
 ],
 "metadata": {
  "kernelspec": {
   "display_name": "Python 3",
   "language": "python",
   "name": "python3"
  },
  "language_info": {
   "codemirror_mode": {
    "name": "ipython",
    "version": 3
   },
   "file_extension": ".py",
   "mimetype": "text/x-python",
   "name": "python",
   "nbconvert_exporter": "python",
   "pygments_lexer": "ipython3",
   "version": "3.11.9"
  }
 },
 "nbformat": 4,
 "nbformat_minor": 5
}
